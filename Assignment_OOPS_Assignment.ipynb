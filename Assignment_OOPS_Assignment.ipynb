{
  "nbformat": 4,
  "nbformat_minor": 0,
  "metadata": {
    "colab": {
      "provenance": [],
      "authorship_tag": "ABX9TyPuEe0ClxKH7OfYjGVlnqSO",
      "include_colab_link": true
    },
    "kernelspec": {
      "name": "python3",
      "display_name": "Python 3"
    },
    "language_info": {
      "name": "python"
    }
  },
  "cells": [
    {
      "cell_type": "markdown",
      "metadata": {
        "id": "view-in-github",
        "colab_type": "text"
      },
      "source": [
        "<a href=\"https://colab.research.google.com/github/shivansh0172/Assignment-Python---Data-Structure/blob/main/Assignment_OOPS_Assignment.ipynb\" target=\"_parent\"><img src=\"https://colab.research.google.com/assets/colab-badge.svg\" alt=\"Open In Colab\"/></a>"
      ]
    },
    {
      "cell_type": "markdown",
      "source": [
        "#<---------- THEORETICAL QUESTIONS------------>"
      ],
      "metadata": {
        "id": "A20xgkLJuea3"
      }
    },
    {
      "cell_type": "markdown",
      "source": [
        "#Python OOPs Questions\n",
        "\n",
        "1. What is Object-Oriented Programming (OOP)+\n",
        "- OOP is a programming paradigm based on the concept of objects that contain data (attributes) and methods (functions).\n",
        "It helps make code modular, reusable, and easier to maintain.\n",
        "2. What is a class in OOP\n",
        "- A class is a blueprint or template for creating objects.\n",
        "- It is an imaginary entity\n",
        "3. What is an object in OOP\n",
        "- An object is an instance of a class. It represents a real-world entity.\n",
        "- It occupies space\n",
        "4. What is the difference between abstraction and encapsulation\n",
        "- Difference between Abstraction and Encapsulation\n",
        "- Concept\tMeaning\tExample\n",
        "- Abstraction\tHides implementation details; shows only essential features.\t - - Using len() without knowing how it’s implemented.\n",
        "- Encapsulation\tHides data by wrapping it in a class and using private    -variables.\tPrivate attributes using __variable.\n",
        "5. What are dunder methods in Python\n",
        "- “Dunder” = Double Underscore (e.g., __init__, __str__, __add__).\n",
        "- They are special methods used to define behavior of objects.\n",
        "6. Explain the concept of inheritance in OOP\n",
        "- Inheritance allows one class (child) to acquire properties and methods of another (parent) class.\n",
        "7. What is polymorphism in OOP\n",
        "- Polymorphism means many forms — same function name behaving differently for different objects.\n",
        "8. How is encapsulation achieved in Python\n",
        "- Using private variables and getter/setter methods.\n",
        "9. What is a constructor in Python\n",
        "- A special method called automatically when an object is created — __init__().\n",
        "10. What are class and static methods in Python\n",
        "- Class method: Works with the class itself (cls)\n",
        "- Static method: Works independently (no self or cls)\n",
        "11. What is method overloading in Python\n",
        "- Python doesn’t support it directly — but you can achieve it with default parameters.\n",
        "12. What is method overriding in OOP\n",
        "- When a child class redefines a parent class method.\n",
        "13. What is a property decorator in Python?\n",
        "- Used to access methods like attributes.\n",
        "14. Why is polymorphism important in OOP?\n",
        "- It allows code reusability and flexibility by enabling a common interface for different types.\n",
        "15. What is an abstract class in Python\n",
        "- A class that cannot be instantiated and contains abstract methods — defined using abc module.\n",
        "16. What are the advantages of OOP+\n",
        "- 16️⃣ Advantages of OOP\n",
        "\n",
        "- Reusability\n",
        " - Modularity\n",
        " - Security (Encapsulation)\n",
        " - Flexibility (Polymorphism)\n",
        " - Easy Maintenance16️⃣ Advantages of OOP\n",
        "\n",
        "17. What is the difference between a class variable and an instance variable+\n",
        "- Type\tShared\tExample\n",
        "- Class variable\tShared by all objects\tCar.wheels = 4\n",
        "- Instance variable\tUnique per object\tself.color = 'Red'\n",
        "18. What is multiple inheritance in Python+\n",
        "- A class inherits from more than one parent class.\n",
        "19. Explain the purpose of ‘’__str__’ and ‘__repr__’ ‘ methods in Python\n",
        "- Method\tUsed by\tPurpose\n",
        "- __str__()\tprint()\tUser-friendly string\n",
        "- __repr__()\trepr()\tDeveloper/debugging representation\n",
        "20. What is the significance of the ‘super()’ function in Python\n",
        "- Used to call a method from the parent class.\n",
        "21. What is the significance of the __del__ method in Python\n",
        "- Destructor — called when an object is deleted or program ends.\n",
        "22. What is the difference between @staticmethod and @classmethod in Python\n",
        "- Difference between @staticmethod and @classmethod\n",
        "- Type\tFirst Argument\tAccess to Class?\tExample\n",
        "- @staticmethod\tNone\t❌\tHelper function\n",
        "- @classmethod\tcls\t✅\tModify class variables\n",
        "23. How does polymorphism work in Python with inheritance\n",
        "- Child class overrides a parent class method to perform different behavior.\n",
        "24. What is method chaining in Python OOP\n",
        "- Calling multiple methods in a single line — each returns self.\n",
        "25. What is the purpose of the __call__ method in Python?\n",
        "- It allows an object to be called like a function."
      ],
      "metadata": {
        "id": "75aRVxYjtiJL"
      }
    },
    {
      "cell_type": "markdown",
      "source": [
        "# <---------- PRACTICAL QUESTIONS------------>"
      ],
      "metadata": {
        "id": "uqjd2_Jqw1NL"
      }
    },
    {
      "cell_type": "markdown",
      "source": [
        "1. Create a parent class Animal with a method speak() that prints a generic message. Create a child class Dog\n",
        "that overrides the speak() method to print \"Bark!\"."
      ],
      "metadata": {
        "id": "ReRYxzmVTmHd"
      }
    },
    {
      "cell_type": "code",
      "source": [
        "# Parent class\n",
        "class Animal:\n",
        "    def speak(self):\n",
        "        print(\"Animal makes a sound\")\n",
        "\n",
        "# Child class overriding the method\n",
        "class Dog(Animal):\n",
        "    def speak(self):\n",
        "        print(\"Bark!\")\n",
        "\n",
        "# Object creation\n",
        "d = Dog()\n",
        "d.speak()  # Output: Bark!\n"
      ],
      "metadata": {
        "id": "_O2HfHsDxOv9"
      },
      "execution_count": null,
      "outputs": []
    },
    {
      "cell_type": "markdown",
      "source": [
        "\n",
        "\n",
        "\n",
        "2. Write a program to create an abstract class Shape with a method area(). Derive classes Circle and Rectangle\n",
        "from it and implement the area() method in both."
      ],
      "metadata": {
        "id": "oOwB0FJXTsJs"
      }
    },
    {
      "cell_type": "code",
      "source": [
        "# 2.\n",
        "\n",
        "class Shape(ABC):\n",
        "    @abstractmethod\n",
        "    def area(self):\n",
        "        pass\n",
        "\n",
        "class Circle(Shape):\n",
        "    def __init__(self, radius):\n",
        "        self.radius = radius\n",
        "\n",
        "    def area(self):\n",
        "        return 3.14 * self.radius ** 2\n",
        "\n",
        "class Rectangle(Shape):\n",
        "    def __init__(self, length, width):\n",
        "        self.length = length\n",
        "        self.width = width\n",
        "\n",
        "    def area(self):\n",
        "        return self.length * self.width\n",
        "\n",
        "# Test\n",
        "print(\"Circle area:\", Circle(5).area())\n",
        "print(\"Rectangle area:\", Rectangle(4, 6).area())\n"
      ],
      "metadata": {
        "id": "UUly5852xUFC"
      },
      "execution_count": null,
      "outputs": []
    },
    {
      "cell_type": "markdown",
      "source": [
        "3. Implement a multi-level inheritance scenario where a class Vehicle has an attribute type. Derive a class Car\n",
        "and further derive a class ElectricCar that adds a battery attribute."
      ],
      "metadata": {
        "id": "-XKdUEU5TsyU"
      }
    },
    {
      "cell_type": "code",
      "source": [
        "#3.\n",
        "class Vehicle:\n",
        "    def __init__(self, type):\n",
        "        self.type = type\n",
        "\n",
        "class Car(Vehicle):\n",
        "    def __init__(self, type, brand):\n",
        "        super().__init__(type)\n",
        "        self.brand = brand\n",
        "\n",
        "class ElectricCar(Car):\n",
        "    def __init__(self, type, brand, battery):\n",
        "        super().__init__(type, brand)\n",
        "        self.battery = battery\n",
        "\n",
        "# Test\n",
        "e = ElectricCar(\"Four Wheeler\", \"Tesla\", \"100 kWh\")\n",
        "print(e.type, e.brand, e.battery)\n"
      ],
      "metadata": {
        "id": "iB95Zlm9xmDK"
      },
      "execution_count": null,
      "outputs": []
    },
    {
      "cell_type": "markdown",
      "source": [
        "4. Demonstrate polymorphism by creating a base class Bird with a method fly(). Create two derived classes\n",
        "Sparrow and Penguin that override the fly() method.\n"
      ],
      "metadata": {
        "id": "p-5ujkVnTtaF"
      }
    },
    {
      "cell_type": "code",
      "source": [
        "#4.\n",
        "class Bird:\n",
        "    def fly(self):\n",
        "        print(\"Birds can fly\")\n",
        "\n",
        "class Sparrow(Bird):\n",
        "    def fly(self):\n",
        "        print(\"Sparrow flies high\")\n",
        "\n",
        "class Penguin(Bird):\n",
        "    def fly(self):\n",
        "        print(\"Penguins cannot fly\")\n",
        "\n",
        "for b in [Sparrow(), Penguin()]:\n",
        "    b.fly()\n"
      ],
      "metadata": {
        "id": "5DmAj8L7xs2x"
      },
      "execution_count": null,
      "outputs": []
    },
    {
      "cell_type": "markdown",
      "source": [
        "5. Write a program to demonstrate encapsulation by creating a class BankAccount with private attributes\n",
        "balance and methods to deposit, withdraw, and check balance."
      ],
      "metadata": {
        "id": "gizL5K6qTt7W"
      }
    },
    {
      "cell_type": "code",
      "source": [
        "#5.\n",
        "class BankAccount:\n",
        "    def __init__(self):\n",
        "        self.__balance = 0\n",
        "\n",
        "    def deposit(self, amount):\n",
        "        self.__balance += amount\n",
        "\n",
        "    def withdraw(self, amount):\n",
        "        if amount <= self.__balance:\n",
        "            self.__balance -= amount\n",
        "        else:\n",
        "            print(\"Insufficient balance!\")\n",
        "\n",
        "    def get_balance(self):\n",
        "        return self.__balance\n",
        "\n",
        "# Test\n",
        "b = BankAccount()\n",
        "b.deposit(1000)\n",
        "b.withdraw(400)\n",
        "print(\"Balance:\", b.get_balance())\n"
      ],
      "metadata": {
        "id": "GupWJgvzxtHl"
      },
      "execution_count": null,
      "outputs": []
    },
    {
      "cell_type": "markdown",
      "source": [
        "6. Demonstrate runtime polymorphism using a method play() in a base class Instrument. Derive classes Guitar\n",
        "and Piano that implement their own version of play()."
      ],
      "metadata": {
        "id": "zxpd0uoATvE7"
      }
    },
    {
      "cell_type": "code",
      "source": [
        "#6.\n",
        "class Instrument:\n",
        "    def play(self):\n",
        "        print(\"Playing instrument\")\n",
        "\n",
        "class Guitar(Instrument):\n",
        "    def play(self):\n",
        "        print(\"Playing guitar 🎸\")\n",
        "\n",
        "class Piano(Instrument):\n",
        "    def play(self):\n",
        "        print(\"Playing piano 🎹\")\n",
        "\n",
        "for inst in [Guitar(), Piano()]:\n",
        "    inst.play()\n"
      ],
      "metadata": {
        "id": "k4PnADvkxtLa"
      },
      "execution_count": null,
      "outputs": []
    },
    {
      "cell_type": "markdown",
      "source": [
        "7. Create a class MathOperations with a class method add_numbers() to add two numbers and a static\n",
        "method subtract_numbers() to subtract two numbers."
      ],
      "metadata": {
        "id": "aaetoUiyTvl_"
      }
    },
    {
      "cell_type": "code",
      "source": [
        "#7.\n",
        "class MathOperations:\n",
        "    @classmethod\n",
        "    def add_numbers(cls, a, b):\n",
        "        return a + b\n",
        "\n",
        "    @staticmethod\n",
        "    def subtract_numbers(a, b):\n",
        "        return a - b\n",
        "\n",
        "print(MathOperations.add_numbers(5, 3))\n",
        "print(MathOperations.subtract_numbers(9, 4))\n"
      ],
      "metadata": {
        "id": "L8sbeybqxtOR"
      },
      "execution_count": null,
      "outputs": []
    },
    {
      "cell_type": "markdown",
      "source": [
        "8. Implement a class Person with a class method to count the total number of persons created."
      ],
      "metadata": {
        "id": "_WV8Ph4_Tv9X"
      }
    },
    {
      "cell_type": "code",
      "source": [
        "#8.\n",
        "class Person:\n",
        "    count = 0\n",
        "\n",
        "    def __init__(self, name):\n",
        "        self.name = name\n",
        "        Person.count += 1\n",
        "\n",
        "    @classmethod\n",
        "    def total_persons(cls):\n",
        "        return cls.count\n",
        "\n",
        "# Test\n",
        "p1 = Person(\"Shivansh\")\n",
        "p2 = Person(\"Neeraj\")\n",
        "print(\"Total persons:\", Person.total_persons())\n"
      ],
      "metadata": {
        "id": "Kb_BQV58xtRl"
      },
      "execution_count": null,
      "outputs": []
    },
    {
      "cell_type": "markdown",
      "source": [
        "9. Write a class Fraction with attributes numerator and denominator. Override the str method to display the\n",
        "fraction as \"numerator/denominator\"."
      ],
      "metadata": {
        "id": "MeROLEnNTwh7"
      }
    },
    {
      "cell_type": "code",
      "source": [
        "#9.\n",
        "class Fraction:\n",
        "    def __init__(self, num, den):\n",
        "        self.num = num\n",
        "        self.den = den\n",
        "\n",
        "    def __str__(self):\n",
        "        return f\"{self.num}/{self.den}\"\n",
        "\n",
        "print(Fraction(3, 4))\n"
      ],
      "metadata": {
        "id": "xJfOpTLBxtZa"
      },
      "execution_count": null,
      "outputs": []
    },
    {
      "cell_type": "markdown",
      "source": [
        "10. Demonstrate operator overloading by creating a class Vector and overriding the add method to add two\n",
        "vectors."
      ],
      "metadata": {
        "id": "_UXeU93fTw-q"
      }
    },
    {
      "cell_type": "code",
      "source": [
        "#10.\n",
        "class Vector:\n",
        "    def __init__(self, x, y):\n",
        "        self.x = x\n",
        "        self.y = y\n",
        "\n",
        "    def __add__(self, other):\n",
        "        return Vector(self.x + other.x, self.y + other.y)\n",
        "\n",
        "    def __str__(self):\n",
        "        return f\"Vector({self.x}, {self.y})\"\n",
        "\n",
        "v1 = Vector(2, 3)\n",
        "v2 = Vector(4, 1)\n",
        "print(v1 + v2)\n"
      ],
      "metadata": {
        "id": "9OeH0bQKxtcW"
      },
      "execution_count": null,
      "outputs": []
    },
    {
      "cell_type": "markdown",
      "source": [
        "11. Create a class Person with attributes name and age. Add a method greet() that prints \"Hello, my name is\n",
        "{name} and I am {age} years old.\""
      ],
      "metadata": {
        "id": "tdHuGpQsTxY_"
      }
    },
    {
      "cell_type": "code",
      "source": [
        "#11.\n",
        "class Person:\n",
        "    def __init__(self, name, age):\n",
        "        self.name = name\n",
        "        self.age = age\n",
        "\n",
        "    def greet(self):\n",
        "        print(f\"Hello, my name is {self.name} and I am {self.age} years old.\")\n",
        "\n",
        "p = Person(\"Shivansh\", 22)\n",
        "p.greet()\n"
      ],
      "metadata": {
        "id": "2oCCbi7Xxz1g"
      },
      "execution_count": null,
      "outputs": []
    },
    {
      "cell_type": "markdown",
      "source": [
        "12. Implement a class Student with attributes name and grades. Create a method average_grade() to compute\n",
        "the average of the grades."
      ],
      "metadata": {
        "id": "mgO_naWQTx1F"
      }
    },
    {
      "cell_type": "code",
      "source": [
        "#12.\n",
        "class Student:\n",
        "    def __init__(self, name, grades):\n",
        "        self.name = name\n",
        "        self.grades = grades\n",
        "\n",
        "    def average_grade(self):\n",
        "        return sum(self.grades) / len(self.grades)\n",
        "\n",
        "print(Student(\"Shivansh\", [80, 90, 85]).average_grade())\n"
      ],
      "metadata": {
        "id": "mXcoDGgOxz5m"
      },
      "execution_count": null,
      "outputs": []
    },
    {
      "cell_type": "markdown",
      "source": [
        "13. Create a class Rectangle with methods set_dimensions() to set the dimensions and area() to calculate the\n",
        "area"
      ],
      "metadata": {
        "id": "cZBQtgIsTyHH"
      }
    },
    {
      "cell_type": "code",
      "source": [
        "#13.\n",
        "class Rectangle:\n",
        "    def set_dimensions(self, length, width):\n",
        "        self.length = length\n",
        "        self.width = width\n",
        "\n",
        "    def area(self):\n",
        "        return self.length * self.width\n",
        "\n",
        "r = Rectangle()\n",
        "r.set_dimensions(5, 3)\n",
        "print(\"Area:\", r.area())\n"
      ],
      "metadata": {
        "id": "iz4YT464xz8o"
      },
      "execution_count": null,
      "outputs": []
    },
    {
      "cell_type": "markdown",
      "source": [
        "14. Create a class Employee with a method calculate_salary() that computes the salary based on hours worked\n",
        "and hourly rate. Create a derived class Manager that adds a bonus to the salary."
      ],
      "metadata": {
        "id": "U6lBYSyzTykt"
      }
    },
    {
      "cell_type": "code",
      "source": [
        "#14.\n",
        "class Employee:\n",
        "    def __init__(self, hours, rate):\n",
        "        self.hours = hours\n",
        "        self.rate = rate\n",
        "\n",
        "    def calculate_salary(self):\n",
        "        return self.hours * self.rate\n",
        "\n",
        "class Manager(Employee):\n",
        "    def __init__(self, hours, rate, bonus):\n",
        "        super().__init__(hours, rate)\n",
        "        self.bonus = bonus\n",
        "\n",
        "    def calculate_salary(self):\n",
        "        return super().calculate_salary() + self.bonus\n",
        "\n",
        "m = Manager(40, 500, 2000)\n",
        "print(\"Total salary:\", m.calculate_salary())\n"
      ],
      "metadata": {
        "id": "XqnRagYCx0Ac"
      },
      "execution_count": null,
      "outputs": []
    },
    {
      "cell_type": "markdown",
      "source": [
        "15. Create a class Product with attributes name, price, and quantity. Implement a method total_price() that\n",
        "calculates the total price of the product."
      ],
      "metadata": {
        "id": "ihSXMDekTzEG"
      }
    },
    {
      "cell_type": "code",
      "source": [
        "#15.\n",
        "class Product:\n",
        "    def __init__(self, name, price, quantity):\n",
        "        self.name = name\n",
        "        self.price = price\n",
        "        self.quantity = quantity\n",
        "\n",
        "    def total_price(self):\n",
        "        return self.price * self.quantity\n",
        "\n",
        "print(\"Total:\", Product(\"Laptop\", 60000, 2).total_price())\n"
      ],
      "metadata": {
        "id": "vb5OECMyx0DB"
      },
      "execution_count": null,
      "outputs": []
    },
    {
      "cell_type": "markdown",
      "source": [
        "16. Create a class Animal with an abstract method sound(). Create two derived classes Cow and Sheep that\n",
        "implement the sound() method."
      ],
      "metadata": {
        "id": "S705GAU_Tzgq"
      }
    },
    {
      "cell_type": "code",
      "source": [
        "#16.\n",
        "from abc import ABC, abstractmethod\n",
        "\n",
        "class Animal(ABC):\n",
        "    @abstractmethod\n",
        "    def sound(self):\n",
        "        pass\n",
        "\n",
        "class Cow(Animal):\n",
        "    def sound(self):\n",
        "        print(\"Moo\")\n",
        "\n",
        "class Sheep(Animal):\n",
        "    def sound(self):\n",
        "        print(\"Baa\")\n",
        "\n",
        "for a in [Cow(), Sheep()]:\n",
        "    a.sound()\n"
      ],
      "metadata": {
        "id": "bRmUCRwyyNzJ"
      },
      "execution_count": null,
      "outputs": []
    },
    {
      "cell_type": "markdown",
      "source": [
        "17. Create a class Book with attributes title, author, and year_published. Add a method get_book_info() that\n",
        "returns a formatted string with the book's details."
      ],
      "metadata": {
        "id": "iKvYG_Q2Tz51"
      }
    },
    {
      "cell_type": "code",
      "source": [
        "#17.\n",
        "class Book:\n",
        "    def __init__(self, title, author, year):\n",
        "        self.title = title\n",
        "        self.author = author\n",
        "        self.year = year\n",
        "\n",
        "    def get_book_info(self):\n",
        "        return f\"'{self.title}' by {self.author}, published in {self.year}\"\n",
        "\n",
        "print(Book(\"Atomic Habits\", \"James Clear\", 2018).get_book_info())\n"
      ],
      "metadata": {
        "id": "sSaEM9DiyN3u"
      },
      "execution_count": null,
      "outputs": []
    },
    {
      "cell_type": "markdown",
      "source": [
        "18. Create a class House with attributes address and price. Create a derived class Mansion that adds an\n",
        "attribute number_of_rooms."
      ],
      "metadata": {
        "id": "LwLbTaeZT0Zj"
      }
    },
    {
      "cell_type": "code",
      "source": [
        "#18.\n",
        "class House:\n",
        "    def __init__(self, address, price):\n",
        "        self.address = address\n",
        "        self.price = price\n",
        "\n",
        "class Mansion(House):\n",
        "    def __init__(self, address, price, rooms):\n",
        "        super().__init__(address, price)\n",
        "        self.rooms = rooms\n",
        "\n",
        "    def info(self):\n",
        "        return f\"Address: {self.address}, Price: ₹{self.price}, Rooms: {self.rooms}\"\n",
        "\n",
        "print(Mansion(\"Sector 17, Chandigarh\", 20000000, 10).info())\n"
      ],
      "metadata": {
        "id": "PaVwhrh3yN7a"
      },
      "execution_count": null,
      "outputs": []
    }
  ]
}