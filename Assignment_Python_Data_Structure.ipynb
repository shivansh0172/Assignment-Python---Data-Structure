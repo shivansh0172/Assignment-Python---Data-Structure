{
  "nbformat": 4,
  "nbformat_minor": 0,
  "metadata": {
    "colab": {
      "provenance": []
    },
    "kernelspec": {
      "name": "python3",
      "display_name": "Python 3"
    },
    "language_info": {
      "name": "python"
    }
  },
  "cells": [
    {
      "cell_type": "markdown",
      "source": [
        "#THEORETICAL QUESTIONS ---------------------------->"
      ],
      "metadata": {
        "id": "q2DIufnkBamX"
      }
    },
    {
      "cell_type": "markdown",
      "source": [
        "Data Types and Structures Questions\n",
        " 1. What are data structures, and why are they important\n",
        "  - Data structures are ways to organize and store data so it can be accessed and modified efficiently.\n",
        "\n",
        "- Example: Lists, Tuples, Dictionaries, Sets.\n",
        "- Importance: They help improve efficiency, make programs faster, and reduce memory usage.\n",
        "2.  Explain the difference between mutable and immutable data types with examples\n",
        "- Mutable: Can be changed after creation.\n",
        "Example → list1 = [1, 2, 3]; list1[0] = 10 works.\n",
        "\n",
        "- Immutable: Cannot be changed after creation.\n",
        "Example → tup = (1, 2, 3); tup[0] = 10  error.\n",
        "\n",
        "3. What are the main differences between lists and tuples in Python\n",
        " - Feature:\tList ([])\tTuple (())\n",
        "- Mutability:\tMutable\tImmutable\n",
        "- Speed:Slower\tFaster\n",
        "- Use Case:\tFrequent updates\tFixed data (constants)\n",
        "\n",
        " 4. Describe how dictionaries store data\n",
        "  - Dictionaries store data as key-value pairs.\n",
        "- Example:\n",
        "\n",
        "- student = {\"name\": \"Shivansh\", \"age\": 22}\n",
        "\n",
        "\n",
        "- Keys → unique identifiers\n",
        "\n",
        "- Values → data linked to keys\n",
        "\n",
        "- They are implemented internally using a hash table.\n",
        "\n",
        "5. Why might you use a set instead of a list in Python\n",
        "  - Set automatically removes duplicates.\n",
        "\n",
        "- Faster lookup (in operation).\n",
        "- Example: set([1,2,2,3]) → {1,2,3}\n",
        "\n",
        " 6. What is a string in Python, and how is it different from a list\n",
        "  - A string is a sequence of characters enclosed in quotes.\n",
        "\n",
        "- A list is a collection of elements (can be numbers, strings, etc.).\n",
        "Difference:\n",
        "\n",
        "- String → immutable.\n",
        "\n",
        "- List → mutable.\n",
        "Example: \"hello\"[0] = \"y\" , [1,2,3][0] = 10 .\n",
        "\n",
        " 7. How do tuples ensure data integrity in Python3\n",
        "  - Since tuples are immutable, once created, the data inside cannot be changed → ensures integrity (no accidental modification).\n",
        "\n",
        " 8. What is a hash table, and how does it relate to dictionaries in Python\n",
        " - A hash table maps keys → values using a hash function.\n",
        "\n",
        "- Python dictionaries are built on hash tables, which allow O(1) average-time access.\n",
        "\n",
        " 9. Can lists contain different data types in Python\n",
        " - Yes\n",
        "  Example: my_list = [1, \"hello\", 3.5, True]\n",
        "  - because it contains heterogenous data\n",
        "\n",
        " 10. Explain why strings are immutable in Python\n",
        "  - Strings are immutable because they are interned and reused internally for efficiency.\n",
        "\n",
        "- If they were mutable, multiple variables pointing to the same string would cause unwanted changes.\n",
        "\n",
        " 11. What advantages do dictionaries offer over lists for certain tasks\n",
        " -Faster lookups (O(1) vs O(n)).\n",
        "\n",
        "- Data stored with meaningful keys, not just numeric indexes.\n",
        "- Example: Searching student by id is easier in dict than in list.\n",
        " 12. Describe a scenario where using a tuple would be preferable over a list\n",
        " -When you want to protect data from modification.\n",
        "- Example: Storing geographical coordinates (lat, long) → (30.7333, 76.7794).\n",
        " 13.  How do sets handle duplicate values in Python3\n",
        " -Sets automatically ignore duplicates.\n",
        "- Example: {1, 2, 2, 3} → {1, 2, 3}\n",
        " 14. How does the “in” keyword work differently for lists and dictionaries\n",
        " -List: checks if element exists in values.\n",
        "- Example: 5 in [1,2,5] → True\n",
        "\n",
        "- Dict: checks only keys, not values.\n",
        "- Example: 5 in {\"a\":1, \"b\":5} → False\n",
        " 15. Can you modify the elements of a tuple? Explain why or why not\n",
        "  - No  because tuples are immutable.\n",
        "- Example:\n",
        "\n",
        "- t = (1,2,3)\n",
        "- t[0] = 10   # error\n",
        " 16. What is a nested dictionary, and give an example of its use case\n",
        "  - A dictionary inside another dictionary.\n",
        "- Example:\n",
        "\n",
        "- students = {\n",
        "   \"101\": {\"name\": \"Shivansh\", \"age\": 22},\n",
        "   \"102\": {\"name\": \"Ajay\", \"age\": 21}\n",
        "}\n",
        "\n",
        "\n",
        "- Use Case → Storing structured data like student records.\n",
        " 17. Describe the time complexity of accessing elements in a dictionary\n",
        " -Average case: O(1)\n",
        "\n",
        "- Worst case (rare): O(n) if many hash collisions.\n",
        " 18. In what situations are lists preferred over dictionaries\n",
        " - When order matters.\n",
        "\n",
        "- When only values are important, not key-value mapping.\n",
        "\n",
        "- Example: storing marks [90, 85, 75].\n",
        " 19. Why are dictionaries considered unordered, and how does that affect data retrieval\n",
        "\n",
        " - Before Python 3.7 → unordered (random order).\n",
        "\n",
        "- From Python 3.7+ → they preserve insertion order, but conceptually they are unordered (keys retrieved via hash).\n",
        "- Effect → You should not rely on dictionary order for logic.\n",
        " 20. Explain the difference between a list and a dictionary in terms of data retrieval.\n",
        " - List: retrieval by index (position).\n",
        "- Example: list1[0] → first element.\n",
        "\n",
        "- Dict: retrieval by key (label).\n",
        "- Example: dict1[\"name\"] → value linked to \"name\"."
      ],
      "metadata": {
        "id": "1eV_jbaGBhOr"
      }
    },
    {
      "cell_type": "markdown",
      "source": [
        "#PRACTICAL QUESTIONS----------------------------->"
      ],
      "metadata": {
        "id": "_rYqeeIBB-vj"
      }
    },
    {
      "cell_type": "markdown",
      "source": [
        "1. Write a code to create a string with your name and print it\n",
        "\n",
        "2.  Write a code to find the length of the string \"Hello World\"\n",
        "\n",
        "3. Write a code to slice the first 3 characters from the string \"Python\n",
        "Programming\"\n",
        "\n",
        "4. Write a code to convert the string \"hello\" to uppercase\n",
        "\n",
        "5. Write a code to replace the word \"apple\" with \"orange\" in the string \"I like apple\"\n",
        "\n",
        "6. Write a code to create a list with numbers 1 to 5 and print itP\n",
        "\n",
        "7.  Write a code to append the number 10 to the list [1, 2, 3, 4]\n",
        "\n",
        "8. Write a code to remove the number 3 from the list [1, 2, 3, 4, 5]\n",
        "\n",
        "9. Write a code to access the second element in the list ['a', 'b', 'c', 'd']\n",
        "\n",
        "10.  Write a code to reverse the list [10, 20, 30, 40, 50].\n",
        "\n",
        "\n",
        "11. Write a code to create a tuple with the elements 100, 200, 300 and print it.\n",
        "\n",
        "12. Write a code to access the second-to-last element of the tuple ('red', 'green', 'blue', 'yellow').\n",
        "\n",
        "13. Write a code to find the minimum number in the tuple (10, 20, 5, 15).\n",
        "\n",
        "14. Write a code to find the index of the element \"cat\" in the tuple ('dog', 'cat', 'rabbit').\n",
        "\n",
        "15. Write a code to create a tuple containing three different fruits and check if \"kiwi\" is in it.\n",
        "\n",
        "16. Write a code to create a set with the elements 'a', 'b', 'c' and print it.\n",
        "\n",
        "17. Write a code to clear all elements from the set {1, 2, 3, 4, 5}.\n",
        "\n",
        "18. Write a code to remove the element 4 from the set {1, 2, 3, 4}.\n",
        "\n",
        "19. Write a code to find the union of two sets {1, 2, 3} and {3, 4, 5}.\n",
        "\n",
        "20. Write a code to find the intersection of two sets {1, 2, 3} and {2, 3, 4}.\n",
        "\n",
        "21. Write a code to create a dictionary with the keys \"name\", \"age\", and \"city\", and print it.\n",
        "\n",
        "22. Write a code to add a new key-value pair \"country\": \"USA\" to the dictionary {'name': 'John', 'age': 25}.\n",
        "\n",
        "23. Write a code to access the value associated with the key \"name\" in the dictionary {'name': 'Alice', 'age': 30}.\n",
        "\n",
        "24. Write a code to remove the key \"age\" from the dictionary {'name': 'Bob', 'age': 22, 'city': 'New York'}.\n",
        "\n",
        "25. Write a code to check if the key \"city\" exists in the dictionary {'name': 'Alice', 'city': 'Paris'}.\n",
        "\n",
        "26. Write a code to create a list, a tuple, and a dictionary, and print them all.\n",
        "\n",
        "27. Write a code to create a list of 5 random numbers between 1 and 100, sort it in ascending order, and print the\n",
        "result.(replaced)\n",
        "\n",
        "28. Write a code to create a list with strings and print the element at the third index.\n",
        "\n",
        "29. Write a code to combine two dictionaries into one and print the result.\n",
        "\n",
        "30. Write a code to convert a list of strings into a set."
      ],
      "metadata": {
        "id": "Q9kz0PwFE63r"
      }
    },
    {
      "cell_type": "code",
      "source": [
        "#1.\n",
        "name = \"Shivansh Grover\"\n",
        "print(name)\n"
      ],
      "metadata": {
        "id": "xik0ZbFrEicW"
      },
      "execution_count": null,
      "outputs": []
    },
    {
      "cell_type": "code",
      "source": [
        "#2.\n",
        "text = \"Hello World\"\n",
        "print(len(text))\n"
      ],
      "metadata": {
        "id": "aQI-JcCGE2xA"
      },
      "execution_count": null,
      "outputs": []
    },
    {
      "cell_type": "code",
      "source": [
        "# 3.\n",
        "text = \"Python Programming\"\n",
        "print(text[:3])\n"
      ],
      "metadata": {
        "id": "K0FyDj93FkrQ"
      },
      "execution_count": null,
      "outputs": []
    },
    {
      "cell_type": "code",
      "source": [
        "#4.\n",
        "word = \"hello\"\n",
        "print(word.upper())\n"
      ],
      "metadata": {
        "id": "cZBfdm1hFnqq"
      },
      "execution_count": null,
      "outputs": []
    },
    {
      "cell_type": "code",
      "source": [
        "#5.\n",
        "text = \"I like apple\"\n",
        "print(text.replace(\"apple\", \"orange\"))\n"
      ],
      "metadata": {
        "id": "nYbJNKHzFsgT"
      },
      "execution_count": null,
      "outputs": []
    },
    {
      "cell_type": "code",
      "source": [
        "#6.\n",
        "numbers = [1, 2, 3, 4, 5]\n",
        "print(numbers)\n"
      ],
      "metadata": {
        "id": "toJ74p0bFtk4"
      },
      "execution_count": null,
      "outputs": []
    },
    {
      "cell_type": "code",
      "source": [
        "#7.\n",
        "nums = [1, 2, 3, 4]\n",
        "nums.append(10)\n",
        "print(nums)\n"
      ],
      "metadata": {
        "id": "EXYSExAGFtoM"
      },
      "execution_count": null,
      "outputs": []
    },
    {
      "cell_type": "code",
      "source": [
        "#8.\n",
        "nums = [1, 2, 3, 4, 5]\n",
        "nums.remove(3)\n",
        "print(nums)\n"
      ],
      "metadata": {
        "id": "6diluFS6Ftq-"
      },
      "execution_count": null,
      "outputs": []
    },
    {
      "cell_type": "code",
      "source": [
        "#9.\n",
        "letters = ['a', 'b', 'c', 'd']\n",
        "print(letters[1])\n"
      ],
      "metadata": {
        "id": "S2DU9zvjFttL"
      },
      "execution_count": null,
      "outputs": []
    },
    {
      "cell_type": "code",
      "source": [
        "#10.\n",
        "nums = [10, 20, 30, 40, 50]\n",
        "nums.reverse()\n",
        "print(nums)\n"
      ],
      "metadata": {
        "id": "Z_gTwByXFtwl"
      },
      "execution_count": null,
      "outputs": []
    },
    {
      "cell_type": "code",
      "source": [
        "#11.\n",
        "t = (100, 200, 300)\n",
        "print(t)\n"
      ],
      "metadata": {
        "id": "Kb3MAuosFtyo"
      },
      "execution_count": null,
      "outputs": []
    },
    {
      "cell_type": "code",
      "source": [
        "#12.\n",
        "colors = ('red', 'green', 'blue', 'yellow')\n",
        "print(colors[-2])\n"
      ],
      "metadata": {
        "id": "dRw7r04QFt4Y"
      },
      "execution_count": null,
      "outputs": []
    },
    {
      "cell_type": "code",
      "source": [
        "#13.\n",
        "t = (10, 20, 5, 15)\n",
        "print(min(t))\n"
      ],
      "metadata": {
        "id": "RWZzo4GXFt65"
      },
      "execution_count": null,
      "outputs": []
    },
    {
      "cell_type": "code",
      "source": [
        "#14.\n",
        "animals = ('dog', 'cat', 'rabbit')\n",
        "print(animals.index(\"cat\"))\n"
      ],
      "metadata": {
        "id": "nRMtrfAIFt9w"
      },
      "execution_count": null,
      "outputs": []
    },
    {
      "cell_type": "code",
      "source": [
        "#15.\n",
        "fruits = (\"apple\", \"banana\", \"mango\")\n",
        "print(\"kiwi\" in fruits)\n"
      ],
      "metadata": {
        "id": "DvbcDoW6FuAT"
      },
      "execution_count": null,
      "outputs": []
    },
    {
      "cell_type": "code",
      "source": [
        "#16.\n",
        "s = {'a', 'b', 'c'}\n",
        "print(s)\n"
      ],
      "metadata": {
        "id": "TJBXpzbQFuK4"
      },
      "execution_count": null,
      "outputs": []
    },
    {
      "cell_type": "code",
      "source": [
        "#17.\n",
        "s = {1, 2, 3, 4, 5}\n",
        "s.clear()\n",
        "print(s)\n"
      ],
      "metadata": {
        "id": "ZTViB0BGFuNm"
      },
      "execution_count": null,
      "outputs": []
    },
    {
      "cell_type": "code",
      "source": [
        "#18.\n",
        "s = {1, 2, 3, 4}\n",
        "s.remove(4)\n",
        "print(s)\n"
      ],
      "metadata": {
        "id": "0NmM3ooAGCR7"
      },
      "execution_count": null,
      "outputs": []
    },
    {
      "cell_type": "code",
      "source": [
        "#19.\n",
        "s1 = {1, 2, 3}\n",
        "s2 = {3, 4, 5}\n",
        "print(s1.union(s2))\n"
      ],
      "metadata": {
        "id": "cyl4TqwIGCV4"
      },
      "execution_count": null,
      "outputs": []
    },
    {
      "cell_type": "code",
      "source": [
        "#20.\n",
        "s1 = {1, 2, 3}\n",
        "s2 = {2, 3, 4}\n",
        "print(s1.intersection(s2))\n"
      ],
      "metadata": {
        "id": "A6X5swc-GCY7"
      },
      "execution_count": null,
      "outputs": []
    },
    {
      "cell_type": "code",
      "source": [
        "#21.\n",
        "person = {\"name\": \"Shivansh\", \"age\": 22, \"city\": \"Mohali\"}\n",
        "print(person)\n"
      ],
      "metadata": {
        "id": "ICPj0dzWGCbz"
      },
      "execution_count": null,
      "outputs": []
    },
    {
      "cell_type": "code",
      "source": [
        "#22.\n",
        "d = {'name': 'John', 'age': 25}\n",
        "d[\"country\"] = \"USA\"\n",
        "print(d)\n"
      ],
      "metadata": {
        "id": "35kIu7baGCek"
      },
      "execution_count": null,
      "outputs": []
    },
    {
      "cell_type": "code",
      "source": [
        "#23.\n",
        "d = {'name': 'Alice', 'age': 30}\n",
        "print(d[\"name\"])\n"
      ],
      "metadata": {
        "id": "QFP9lfcRGChf"
      },
      "execution_count": null,
      "outputs": []
    },
    {
      "cell_type": "code",
      "source": [
        "#24.\n",
        "d = {'name': 'Bob', 'age': 22, 'city': 'New York'}\n",
        "d.pop(\"age\")\n",
        "print(d)\n"
      ],
      "metadata": {
        "id": "B1GbpLU9GCkE"
      },
      "execution_count": null,
      "outputs": []
    },
    {
      "cell_type": "code",
      "source": [
        "#25.\n",
        "d = {'name': 'Alice', 'city': 'Paris'}\n",
        "print(\"city\" in d)\n"
      ],
      "metadata": {
        "id": "OY0Gu71GGCnR"
      },
      "execution_count": null,
      "outputs": []
    },
    {
      "cell_type": "code",
      "source": [
        "#26.\n",
        "my_list = [1, 2, 3]\n",
        "my_tuple = (4, 5, 6)\n",
        "my_dict = {\"a\": 1, \"b\": 2}\n",
        "print(my_list, my_tuple, my_dict)\n"
      ],
      "metadata": {
        "id": "Pgwm9x6SGpz5"
      },
      "execution_count": null,
      "outputs": []
    },
    {
      "cell_type": "code",
      "source": [
        "#27.\n",
        "import random\n",
        "nums = [random.randint(1, 100) for _ in range(5)]\n",
        "nums.sort()\n",
        "print(nums)\n"
      ],
      "metadata": {
        "id": "-oWKPKvcGr_D"
      },
      "execution_count": null,
      "outputs": []
    },
    {
      "cell_type": "code",
      "source": [
        "#28.\n",
        "words = [\"apple\", \"banana\", \"cherry\", \"date\", \"fig\"]\n",
        "print(words[3])\n"
      ],
      "metadata": {
        "id": "yMW5oH5cGsHJ"
      },
      "execution_count": null,
      "outputs": []
    },
    {
      "cell_type": "code",
      "source": [
        "#29.\n",
        "d1 = {\"a\": 1, \"b\": 2}\n",
        "d2 = {\"c\": 3, \"d\": 4}\n",
        "combined = {**d1, **d2}\n",
        "print(combined)\n"
      ],
      "metadata": {
        "id": "-_0mYfHIGsPU"
      },
      "execution_count": null,
      "outputs": []
    },
    {
      "cell_type": "code",
      "source": [
        "#30.\n",
        "words = [\"apple\", \"banana\", \"apple\", \"cherry\"]\n",
        "s = set(words)\n",
        "print(s)\n"
      ],
      "metadata": {
        "id": "O3MG3RmjGsW1"
      },
      "execution_count": null,
      "outputs": []
    }
  ]
}